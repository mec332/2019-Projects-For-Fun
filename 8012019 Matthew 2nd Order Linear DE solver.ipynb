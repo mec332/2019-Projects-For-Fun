{
 "cells": [
  {
   "cell_type": "markdown",
   "metadata": {},
   "source": [
    "# Linear Equations Simplifyer/Solver "
   ]
  },
  {
   "cell_type": "markdown",
   "metadata": {},
   "source": [
    "Matthew Choy, mec332, 7/21/2019\n",
    "\n",
    "https://github.com/sympy/sympy/wiki/Quick-examples \n",
    "\n",
    "\n",
    "http://scipy-lectures.org/packages/sympy.html#equation-solving"
   ]
  },
  {
   "cell_type": "code",
   "execution_count": 1,
   "metadata": {},
   "outputs": [],
   "source": [
    "import sympy \n",
    "import mpmath\n",
    "from sympy import Function\n",
    "from sympy import Symbol, cos, sin,  exp\n",
    "from sympy import diff, solve, Eq\n",
    "from sympy import simplify\n",
    "from sympy.solvers.solveset import linsolve\n",
    "from sympy import re, im, I, E\n",
    "from sympy.printing.latex import LatexPrinter, print_latex\n",
    "from sympy.core.function import UndefinedFunction, Function\n",
    "from IPython.display import display, Latex\n",
    "from sympy import *\n",
    "from sympy import pprint\n",
    "from sympy.matrices import *"
   ]
  },
  {
   "cell_type": "markdown",
   "metadata": {},
   "source": [
    "Let us define our differential equation in the form of $$y'' + p(t)y' + q(t)y = g(t)$$"
   ]
  },
  {
   "cell_type": "code",
   "execution_count": 2,
   "metadata": {},
   "outputs": [],
   "source": [
    "p= Function('p')\n",
    "q= Function('q')\n",
    "g= Function('g')\n",
    "y = Symbol('y')\n",
    "t = Symbol('t')\n",
    "HDE= Function('HDE')\n",
    "A = Symbol('A')\n",
    "B = Symbol('B')\n",
    "C = Symbol('C')\n",
    "D = Symbol('D')\n",
    "E = Symbol('E')\n",
    "F = Symbol('F')\n",
    "G = Symbol('G')"
   ]
  },
  {
   "cell_type": "markdown",
   "metadata": {},
   "source": [
    "INSERT $$p(t), q(t), g(t)$$"
   ]
  },
  {
   "cell_type": "code",
   "execution_count": 3,
   "metadata": {},
   "outputs": [],
   "source": [
    "p= 0.5\n",
    "q= 3/2\n",
    "g= ((3/2)*cos(3*t)) - sin(3*t)"
   ]
  },
  {
   "cell_type": "markdown",
   "metadata": {},
   "source": [
    "Finding Complimentary solution $$y_c$$"
   ]
  },
  {
   "cell_type": "code",
   "execution_count": 4,
   "metadata": {},
   "outputs": [],
   "source": [
    "y_c= Function('y_c')\n",
    "CE= Function('CE')\n",
    "r = Symbol('r')\n",
    "CE= r**2 + p*r + q"
   ]
  },
  {
   "cell_type": "markdown",
   "metadata": {},
   "source": [
    "Solving Characteristic Equation"
   ]
  },
  {
   "cell_type": "code",
   "execution_count": 5,
   "metadata": {},
   "outputs": [
    {
     "data": {
      "text/latex": [
       "$$r_1= -0.25 - 1.19895788082818 i$$"
      ],
      "text/plain": [
       "<IPython.core.display.Latex object>"
      ]
     },
     "metadata": {},
     "output_type": "display_data"
    },
    {
     "data": {
      "text/latex": [
       "$$r_2= -0.25 + 1.19895788082818 i$$"
      ],
      "text/plain": [
       "<IPython.core.display.Latex object>"
      ]
     },
     "metadata": {},
     "output_type": "display_data"
    }
   ],
   "source": [
    "rootmatrix=solve(Eq(CE),r)\n",
    "r1= rootmatrix[0]\n",
    "r2= rootmatrix[1]\n",
    "r1display = \"$$r_1= {}$$\".format(latex(r1), latex(r1.doit()))\n",
    "r2display = \"$$r_2= {}$$\".format(latex(r2), latex(r2.doit()))\n",
    "display(Latex(r1display))\n",
    "display(Latex(r2display))"
   ]
  },
  {
   "cell_type": "markdown",
   "metadata": {},
   "source": [
    "Characteristic Equation:"
   ]
  },
  {
   "cell_type": "code",
   "execution_count": 6,
   "metadata": {},
   "outputs": [],
   "source": [
    "def classify_particular_solution():\n",
    "    D= (p**2)-(4*q)\n",
    "    if (D>0):\n",
    "        return 1\n",
    "    if (D==0):\n",
    "        return 0\n",
    "    if (D<0):\n",
    "        return -1        \n",
    "\n",
    "c_1 = Symbol('c_1')\n",
    "c_2 = Symbol('c_2')\n",
    "def write_complimentary_solution():\n",
    "    c= classify_particular_solution()\n",
    "    if (c==1):\n",
    "        y_c= c_1*exp(r1*t) + c_2*exp(r2*t)\n",
    "        result = \"$$y_c= {}$$\".format(latex(y_c), latex(y_c.doit()))\n",
    "        display(Latex(result))\n",
    "    if (c==0):\n",
    "        y_c= c_1*exp(r1*t) + c_2*t*exp(r_1*t)\n",
    "        result = \"$$y_c= {}$$\".format(latex(y_c), latex(y_c.doit()))\n",
    "        display(Latex(result))\n",
    "    if (c==-1):\n",
    "        y_c= exp(re(r1)*t)*((c_1*cos(im(r1)*t)) + (c_2*sin(im(r2)*t)))\n",
    "        result = \"$$y_c= {}$$\".format(latex(y_c), latex(y_c.doit()))\n",
    "        display(Latex(result))"
   ]
  },
  {
   "cell_type": "markdown",
   "metadata": {},
   "source": [
    "The complimentary solution is:"
   ]
  },
  {
   "cell_type": "code",
   "execution_count": 7,
   "metadata": {},
   "outputs": [
    {
     "data": {
      "text/latex": [
       "$$y_c= \\left(c_{1} \\cos{\\left (1.19895788082818 t \\right )} + c_{2} \\sin{\\left (1.19895788082818 t \\right )}\\right) e^{- 0.25 t}$$"
      ],
      "text/plain": [
       "<IPython.core.display.Latex object>"
      ]
     },
     "metadata": {},
     "output_type": "display_data"
    }
   ],
   "source": [
    "write_complimentary_solution()"
   ]
  },
  {
   "cell_type": "markdown",
   "metadata": {},
   "source": [
    "Finding  Particular Solution by METHOD OF UNDERTERMINED COEFFICIENTS $$y_p$$"
   ]
  },
  {
   "cell_type": "code",
   "execution_count": 8,
   "metadata": {},
   "outputs": [],
   "source": [
    "y_p= Function('y_p')"
   ]
  },
  {
   "cell_type": "markdown",
   "metadata": {},
   "source": [
    "INSERT Particular Solution Guess"
   ]
  },
  {
   "cell_type": "code",
   "execution_count": 9,
   "metadata": {},
   "outputs": [],
   "source": [
    "y_p= A*cos(3*t) + B*sin(3*t)"
   ]
  },
  {
   "cell_type": "markdown",
   "metadata": {},
   "source": [
    "Let y_pt be the first derivative with respect to t of our particular solution\n",
    "Let y_ptt be the second derivative with respect to t of our particular solution"
   ]
  },
  {
   "cell_type": "code",
   "execution_count": 10,
   "metadata": {},
   "outputs": [
    {
     "data": {
      "text/latex": [
       "$$y_p' - 3 A \\sin{\\left (3 t \\right )} + 3 B \\cos{\\left (3 t \\right )}$$"
      ],
      "text/plain": [
       "<IPython.core.display.Latex object>"
      ]
     },
     "metadata": {},
     "output_type": "display_data"
    },
    {
     "data": {
      "text/latex": [
       "$$y_p''=- 9 A \\cos{\\left (3 t \\right )} - 9 B \\sin{\\left (3 t \\right )}$$"
      ],
      "text/plain": [
       "<IPython.core.display.Latex object>"
      ]
     },
     "metadata": {},
     "output_type": "display_data"
    }
   ],
   "source": [
    "y_pt= Function('y_pt')\n",
    "y_pt= diff(y_p, t)\n",
    "y_ptt= Function('y_ptt')\n",
    "y_ptt= diff(y_pt, t)\n",
    "y_ptsimple= simplify(y_pt)\n",
    "y_pttsimple= simplify(y_ptt)\n",
    "\n",
    "y_ptresult = \"$$y_p' {}$$\".format(latex(y_ptsimple), latex(y_ptsimple.doit()))\n",
    "display(Latex(y_ptresult))\n",
    "\n",
    "y_pttresult = \"$$y_p''={}$$\".format(latex(y_pttsimple), latex(y_pttsimple.doit()))\n",
    "display(Latex(y_pttresult))"
   ]
  },
  {
   "cell_type": "code",
   "execution_count": 11,
   "metadata": {},
   "outputs": [
    {
     "data": {
      "text/latex": [
       "$$LHS= - 1.5 A \\sin{\\left (3 t \\right )} - 7.5 A \\cos{\\left (3 t \\right )} - 7.5 B \\sin{\\left (3 t \\right )} + 1.5 B \\cos{\\left (3 t \\right )}$$"
      ],
      "text/plain": [
       "<IPython.core.display.Latex object>"
      ]
     },
     "metadata": {},
     "output_type": "display_data"
    }
   ],
   "source": [
    "HDE = y_ptt + p*y_pt + q*y_p \n",
    "HDEsimple= simplify(HDE)\n",
    "HDEsimpleresult = \"$$LHS= {}$$\".format(latex(HDEsimple), latex(HDEsimple.doit()))\n",
    "display(Latex(HDEsimpleresult))"
   ]
  },
  {
   "cell_type": "markdown",
   "metadata": {},
   "source": [
    "# HIGHER ORDER VARIATION OF PARAMETERS"
   ]
  },
  {
   "cell_type": "code",
   "execution_count": 12,
   "metadata": {},
   "outputs": [],
   "source": [
    "y1 = Function('y1')\n",
    "y1= exp(t)\n",
    "y2 = Function('y2')\n",
    "y2= cos(t)\n",
    "y3 = Function('y3')\n",
    "y3= sin(t)\n",
    "y1t = Function('y1t')\n",
    "y1t= diff(y1, t)\n",
    "y2t = Function('y2t')\n",
    "y2t= diff(y2, t)\n",
    "y3t = Function('y3t')\n",
    "y3t= diff(y3, t)\n",
    "y1tt = Function('y1tt')\n",
    "y1tt= diff(y1t,t)\n",
    "y2tt = Function('y2tt')\n",
    "y2tt= diff(y2t,t)\n",
    "y3tt = Function('y3tt')\n",
    "y3tt= diff(y3t,t)"
   ]
  },
  {
   "cell_type": "code",
   "execution_count": 13,
   "metadata": {},
   "outputs": [
    {
     "data": {
      "text/latex": [
       "$$Matrix= \\left[\\begin{matrix}e^{t} & \\cos{\\left (t \\right )} & \\sin{\\left (t \\right )}\\\\e^{t} & - \\sin{\\left (t \\right )} & \\cos{\\left (t \\right )}\\\\e^{t} & - \\cos{\\left (t \\right )} & - \\sin{\\left (t \\right )}\\end{matrix}\\right]$$"
      ],
      "text/plain": [
       "<IPython.core.display.Latex object>"
      ]
     },
     "metadata": {},
     "output_type": "display_data"
    },
    {
     "data": {
      "text/latex": [
       "$$result= 2 e^{t} \\sin^{2}{\\left (t \\right )} + 2 e^{t} \\cos^{2}{\\left (t \\right )}$$"
      ],
      "text/plain": [
       "<IPython.core.display.Latex object>"
      ]
     },
     "metadata": {},
     "output_type": "display_data"
    }
   ],
   "source": [
    "M = Matrix(([y1,y2,y3],[y1t,y2t,y3t],[y1tt,y2tt,y3tt]))\n",
    "answer= M.det()\n",
    "\n",
    "Matrix = \"$$Matrix= {}$$\".format(latex(M), latex(M.doit()))\n",
    "display(Latex(Matrix))\n",
    "\n",
    "result = \"$$result= {}$$\".format(latex(answer), latex(answer.doit()))\n",
    "display(Latex(result))"
   ]
  },
  {
   "cell_type": "markdown",
   "metadata": {},
   "source": [
    "# SYMBOLIC INTEGRATION CALCULATOR"
   ]
  },
  {
   "cell_type": "code",
   "execution_count": 14,
   "metadata": {},
   "outputs": [
    {
     "data": {
      "text/latex": [
       "$$\\int sin(pi*x/L)* cos(n*pi*x/L) =\\begin{cases} \\frac{L \\sin^{2}{\\left (\\frac{\\pi x}{L} \\right )}}{2 \\pi} & \\text{for}\\: n = -1 \\vee n = 1 \\\\\\frac{L n \\sin{\\left (\\frac{\\pi x}{L} \\right )} \\sin{\\left (\\frac{\\pi n x}{L} \\right )}}{\\pi n^{2} - \\pi} + \\frac{L \\cos{\\left (\\frac{\\pi x}{L} \\right )} \\cos{\\left (\\frac{\\pi n x}{L} \\right )}}{\\pi n^{2} - \\pi} & \\text{otherwise} \\end{cases}$$"
      ],
      "text/plain": [
       "<IPython.core.display.Latex object>"
      ]
     },
     "metadata": {},
     "output_type": "display_data"
    }
   ],
   "source": [
    "n = Symbol('n')\n",
    "L = Symbol('L')\n",
    "x = Symbol('x')\n",
    "f= Function('f')\n",
    "f= sin(pi*x/L)* cos(n*pi*x/L)\n",
    "\n",
    "intf=integrate(f,x)\n",
    "integral = \"$$\\int sin(pi*x/L)* cos(n*pi*x/L) ={}$$\".format(latex(intf), latex(intf.doit())) \n",
    "display(Latex(integral))"
   ]
  },
  {
   "cell_type": "code",
   "execution_count": null,
   "metadata": {},
   "outputs": [],
   "source": []
  },
  {
   "cell_type": "code",
   "execution_count": null,
   "metadata": {},
   "outputs": [],
   "source": []
  },
  {
   "cell_type": "code",
   "execution_count": null,
   "metadata": {},
   "outputs": [],
   "source": []
  },
  {
   "cell_type": "code",
   "execution_count": null,
   "metadata": {},
   "outputs": [],
   "source": []
  }
 ],
 "metadata": {
  "kernelspec": {
   "display_name": "Python 3",
   "language": "python",
   "name": "python3"
  },
  "language_info": {
   "codemirror_mode": {
    "name": "ipython",
    "version": 3
   },
   "file_extension": ".py",
   "mimetype": "text/x-python",
   "name": "python",
   "nbconvert_exporter": "python",
   "pygments_lexer": "ipython3",
   "version": "3.7.1"
  }
 },
 "nbformat": 4,
 "nbformat_minor": 2
}
